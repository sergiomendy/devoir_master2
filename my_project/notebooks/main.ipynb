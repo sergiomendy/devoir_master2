{
 "cells": [
  {
   "cell_type": "code",
   "execution_count": null,
   "id": "fd24be1f",
   "metadata": {},
   "outputs": [],
   "source": [
    "from math import sqrt\n",
    "\n",
    "print(sqrt(25))"
   ]
  }
 ],
 "metadata": {},
 "nbformat": 4,
 "nbformat_minor": 5
}
